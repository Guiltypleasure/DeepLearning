{
  "nbformat": 4,
  "nbformat_minor": 0,
  "metadata": {
    "celltoolbar": "Slideshow",
    "kernelspec": {
      "display_name": "tensorflow",
      "language": "python",
      "name": "tensorflow"
    },
    "language_info": {
      "codemirror_mode": {
        "name": "ipython",
        "version": 3
      },
      "file_extension": ".py",
      "mimetype": "text/x-python",
      "name": "python",
      "nbconvert_exporter": "python",
      "pygments_lexer": "ipython3",
      "version": "3.5.6"
    },
    "widgets": {
      "state": {},
      "version": "1.1.2"
    },
    "colab": {
      "name": "과제2(CIFAR10)_81.92.ipynb",
      "version": "0.3.2",
      "provenance": [],
      "collapsed_sections": [],
      "include_colab_link": true
    },
    "accelerator": "GPU"
  },
  "cells": [
    {
      "cell_type": "markdown",
      "metadata": {
        "id": "view-in-github",
        "colab_type": "text"
      },
      "source": [
        "<a href=\"https://colab.research.google.com/github/SJKIM2253/DeepLearning/blob/master/%EA%B3%BC%EC%A0%9C2(CIFAR10)_81_92.ipynb\" target=\"_parent\"><img src=\"https://colab.research.google.com/assets/colab-badge.svg\" alt=\"Open In Colab\"/></a>"
      ]
    },
    {
      "cell_type": "markdown",
      "metadata": {
        "id": "pP9TukS5Ty3B",
        "colab_type": "text"
      },
      "source": [
        "# CNN (CIFAR10)\n",
        "## 1. Library, Data Preprocessing \n",
        "## 2. Solve classification with Tensorflow"
      ]
    },
    {
      "cell_type": "code",
      "metadata": {
        "id": "E-58asLlq42Y",
        "colab_type": "code",
        "outputId": "bcd867e2-fcac-429a-ec8a-e61a7e64ae16",
        "colab": {
          "base_uri": "https://localhost:8080/",
          "height": 35
        }
      },
      "source": [
        "from google.colab import drive\n",
        "drive.mount('/content/drive')"
      ],
      "execution_count": 55,
      "outputs": [
        {
          "output_type": "stream",
          "text": [
            "Drive already mounted at /content/drive; to attempt to forcibly remount, call drive.mount(\"/content/drive\", force_remount=True).\n"
          ],
          "name": "stdout"
        }
      ]
    },
    {
      "cell_type": "markdown",
      "metadata": {
        "id": "z2wqrW54Ty3C",
        "colab_type": "text"
      },
      "source": [
        "# Library"
      ]
    },
    {
      "cell_type": "code",
      "metadata": {
        "id": "kOPuhgALq57V",
        "colab_type": "code",
        "outputId": "2ab43e3e-82f0-4d94-e101-b6e8a8b8d963",
        "colab": {
          "base_uri": "https://localhost:8080/",
          "height": 377
        }
      },
      "source": [
        "pip install tensorflow-gpu"
      ],
      "execution_count": 0,
      "outputs": [
        {
          "output_type": "stream",
          "text": [
            "Requirement already satisfied: tensorflow-gpu in /usr/local/lib/python3.6/dist-packages (1.14.0)\n",
            "Requirement already satisfied: absl-py>=0.7.0 in /usr/local/lib/python3.6/dist-packages (from tensorflow-gpu) (0.7.1)\n",
            "Requirement already satisfied: gast>=0.2.0 in /usr/local/lib/python3.6/dist-packages (from tensorflow-gpu) (0.2.2)\n",
            "Requirement already satisfied: termcolor>=1.1.0 in /usr/local/lib/python3.6/dist-packages (from tensorflow-gpu) (1.1.0)\n",
            "Requirement already satisfied: google-pasta>=0.1.6 in /usr/local/lib/python3.6/dist-packages (from tensorflow-gpu) (0.1.7)\n",
            "Requirement already satisfied: protobuf>=3.6.1 in /usr/local/lib/python3.6/dist-packages (from tensorflow-gpu) (3.7.1)\n",
            "Requirement already satisfied: keras-preprocessing>=1.0.5 in /usr/local/lib/python3.6/dist-packages (from tensorflow-gpu) (1.1.0)\n",
            "Requirement already satisfied: six>=1.10.0 in /usr/local/lib/python3.6/dist-packages (from tensorflow-gpu) (1.12.0)\n",
            "Requirement already satisfied: wheel>=0.26 in /usr/local/lib/python3.6/dist-packages (from tensorflow-gpu) (0.33.4)\n",
            "Requirement already satisfied: tensorboard<1.15.0,>=1.14.0 in /usr/local/lib/python3.6/dist-packages (from tensorflow-gpu) (1.14.0)\n",
            "Requirement already satisfied: keras-applications>=1.0.6 in /usr/local/lib/python3.6/dist-packages (from tensorflow-gpu) (1.0.8)\n",
            "Requirement already satisfied: numpy<2.0,>=1.14.5 in /usr/local/lib/python3.6/dist-packages (from tensorflow-gpu) (1.16.4)\n",
            "Requirement already satisfied: tensorflow-estimator<1.15.0rc0,>=1.14.0rc0 in /usr/local/lib/python3.6/dist-packages (from tensorflow-gpu) (1.14.0)\n",
            "Requirement already satisfied: astor>=0.6.0 in /usr/local/lib/python3.6/dist-packages (from tensorflow-gpu) (0.8.0)\n",
            "Requirement already satisfied: grpcio>=1.8.6 in /usr/local/lib/python3.6/dist-packages (from tensorflow-gpu) (1.15.0)\n",
            "Requirement already satisfied: wrapt>=1.11.1 in /usr/local/lib/python3.6/dist-packages (from tensorflow-gpu) (1.11.2)\n",
            "Requirement already satisfied: setuptools in /usr/local/lib/python3.6/dist-packages (from protobuf>=3.6.1->tensorflow-gpu) (41.2.0)\n",
            "Requirement already satisfied: werkzeug>=0.11.15 in /usr/local/lib/python3.6/dist-packages (from tensorboard<1.15.0,>=1.14.0->tensorflow-gpu) (0.15.5)\n",
            "Requirement already satisfied: markdown>=2.6.8 in /usr/local/lib/python3.6/dist-packages (from tensorboard<1.15.0,>=1.14.0->tensorflow-gpu) (3.1.1)\n",
            "Requirement already satisfied: h5py in /usr/local/lib/python3.6/dist-packages (from keras-applications>=1.0.6->tensorflow-gpu) (2.8.0)\n"
          ],
          "name": "stdout"
        }
      ]
    },
    {
      "cell_type": "code",
      "metadata": {
        "id": "6nfyHHKdVVeW",
        "colab_type": "code",
        "outputId": "d93da9c0-6441-4d31-db1e-4e01a82db3ae",
        "colab": {
          "base_uri": "https://localhost:8080/",
          "height": 575
        }
      },
      "source": [
        "from tensorflow.python.client import device_lib\n",
        "print(device_lib.list_local_devices())"
      ],
      "execution_count": 62,
      "outputs": [
        {
          "output_type": "stream",
          "text": [
            "[name: \"/device:CPU:0\"\n",
            "device_type: \"CPU\"\n",
            "memory_limit: 268435456\n",
            "locality {\n",
            "}\n",
            "incarnation: 11770682144759883576\n",
            ", name: \"/device:XLA_CPU:0\"\n",
            "device_type: \"XLA_CPU\"\n",
            "memory_limit: 17179869184\n",
            "locality {\n",
            "}\n",
            "incarnation: 3507060281994245647\n",
            "physical_device_desc: \"device: XLA_CPU device\"\n",
            ", name: \"/device:XLA_GPU:0\"\n",
            "device_type: \"XLA_GPU\"\n",
            "memory_limit: 17179869184\n",
            "locality {\n",
            "}\n",
            "incarnation: 16702850229164939939\n",
            "physical_device_desc: \"device: XLA_GPU device\"\n",
            ", name: \"/device:GPU:0\"\n",
            "device_type: \"GPU\"\n",
            "memory_limit: 11330115994\n",
            "locality {\n",
            "  bus_id: 1\n",
            "  links {\n",
            "  }\n",
            "}\n",
            "incarnation: 5836083147067420304\n",
            "physical_device_desc: \"device: 0, name: Tesla K80, pci bus id: 0000:00:04.0, compute capability: 3.7\"\n",
            "]\n"
          ],
          "name": "stdout"
        }
      ]
    },
    {
      "cell_type": "code",
      "metadata": {
        "id": "3N8LmY8xTy3D",
        "colab_type": "code",
        "colab": {}
      },
      "source": [
        "import tensorflow as tf\n",
        "import numpy as np\n",
        "from tensorflow.keras.datasets.cifar10 import load_data"
      ],
      "execution_count": 0,
      "outputs": []
    },
    {
      "cell_type": "markdown",
      "metadata": {
        "id": "FPGhd1FPTy3H",
        "colab_type": "text"
      },
      "source": [
        "# Load data"
      ]
    },
    {
      "cell_type": "code",
      "metadata": {
        "id": "5qv-zKJYTy3I",
        "colab_type": "code",
        "colab": {}
      },
      "source": [
        "(x_train, y_train), (x_test, y_test) = load_data()\n",
        "\n",
        "# one-hot encoding\n",
        "y_train_one_hot = tf.squeeze(tf.one_hot(y_train, 10),axis=1)\n",
        "y_test_one_hot = tf.squeeze(tf.one_hot(y_test, 10),axis=1)"
      ],
      "execution_count": 0,
      "outputs": []
    },
    {
      "cell_type": "markdown",
      "metadata": {
        "id": "dBg7K1VKTy3L",
        "colab_type": "text"
      },
      "source": [
        "# Hyper parameter setting"
      ]
    },
    {
      "cell_type": "code",
      "metadata": {
        "id": "5SLJwc5CTy3M",
        "colab_type": "code",
        "colab": {}
      },
      "source": [
        "# hypter parameter setting\n",
        "learning_rate = 1e-4\n",
        "training_epochs = 1000\n",
        "display_step = 15\n",
        "batch_size = 30\n",
        "activation = tf.nn.relu"
      ],
      "execution_count": 0,
      "outputs": []
    },
    {
      "cell_type": "markdown",
      "metadata": {
        "id": "yYb9EfNvTy3P",
        "colab_type": "text"
      },
      "source": [
        "# Model"
      ]
    },
    {
      "cell_type": "code",
      "metadata": {
        "id": "iJOO-6pogDHl",
        "colab_type": "code",
        "colab": {}
      },
      "source": [
        "def CNN_model(x):\n",
        "    x_image = x\n",
        "    \n",
        "    W_conv1 = tf.Variable(tf.truncated_normal(shape=[3, 3, 3, 32], stddev=5e-3))\n",
        "    b_conv1 = tf.Variable(tf.constant(0.1, shape=[32]))\n",
        "    h_conv1 = tf.nn.relu(tf.nn.conv2d(x_image, W_conv1, strides=[1, 1, 1, 1], padding='SAME') + b_conv1)\n",
        "    h_pool1 = tf.nn.max_pool(h_conv1, ksize=[1, 3, 3, 1], strides=[1, 2, 2, 1], padding='SAME')\n",
        "    batnor1 = tf.layers.batch_normalization(h_pool1)\n",
        "\n",
        "    W_conv2 = tf.Variable(tf.truncated_normal(shape=[3, 3, 32, 64], stddev=1e-2))\n",
        "    b_conv2 = tf.Variable(tf.constant(0.1, shape=[64]))\n",
        "    h_conv2 = tf.nn.relu(tf.nn.conv2d(batnor1, W_conv2, strides=[1, 1, 1, 1], padding='SAME') + b_conv2)\n",
        "    h_pool2 = tf.nn.max_pool(h_conv2, ksize=[1, 3, 3, 1], strides=[1, 2, 2, 1], padding='SAME')\n",
        "\n",
        "    W_conv3 = tf.Variable(tf.truncated_normal(shape=[3, 3, 64, 128], stddev=5e-2))\n",
        "    b_conv3 = tf.Variable(tf.constant(0.1, shape=[128]))\n",
        "    h_conv3 = tf.nn.relu(tf.nn.conv2d(h_pool2, W_conv3, strides=[1, 1, 1, 1], padding='SAME') + b_conv3)\n",
        "    batnor3 = tf.layers.batch_normalization(h_conv3)\n",
        "\n",
        "    W_conv4 = tf.Variable(tf.truncated_normal(shape=[3, 3, 128, 256], stddev=5e-3))\n",
        "    b_conv4 = tf.Variable(tf.constant(0.1, shape=[256])) \n",
        "    h_conv4 = tf.nn.relu(tf.nn.conv2d(h_conv3, W_conv4, strides=[1, 1, 1, 1], padding='SAME') + b_conv4)\n",
        "    batnor4 = tf.layers.batch_normalization(h_conv4)\n",
        "\n",
        "    W_conv5 = tf.Variable(tf.truncated_normal(shape=[5, 5, 256, 512], stddev=1e-2))\n",
        "    b_conv5 = tf.Variable(tf.constant(0.1, shape=[512]))\n",
        "    h_conv5 = tf.nn.relu(tf.nn.conv2d(batnor4, W_conv5, strides=[1, 1, 1, 1], padding='SAME') + b_conv5)\n",
        "    batnor5 = tf.layers.batch_normalization(h_conv5)\n",
        "\n",
        "    W_fc1 = tf.Variable(tf.truncated_normal(shape=[8 * 8 * 512, 384], stddev=5e-2))\n",
        "    b_fc1 = tf.Variable(tf.constant(0.1, shape=[384]))\n",
        "\n",
        "    h_conv5_flat = tf.reshape(batnor5, [-1, 8*8*512])\n",
        "    h_fc1 = tf.nn.relu(tf.matmul(h_conv5_flat, W_fc1) + b_fc1)\n",
        "\n",
        "    h_fc1_drop = tf.nn.dropout(h_fc1, keep_prob) \n",
        "\n",
        "    W_fc2 = tf.Variable(tf.truncated_normal(shape=[384, 10], stddev=5e-3))\n",
        "    b_fc2 = tf.Variable(tf.constant(0.1, shape=[10]))\n",
        "    logits = tf.matmul(h_fc1_drop,W_fc2) + b_fc2\n",
        "    y_pred = tf.nn.softmax(logits)\n",
        "\n",
        "    return y_pred, logits\n",
        "\n",
        "tf_X = tf.placeholder(tf.float32, shape=[None, 32, 32, 3])\n",
        "tf_Y = tf.placeholder(tf.float32, shape=[None, 10])\n",
        "keep_prob = tf.placeholder(tf.float32)\n",
        "\n",
        "pred, logit = CNN_model(tf_X)\n",
        "\n",
        "loss = tf.reduce_mean(tf.nn.softmax_cross_entropy_with_logits(labels=tf_Y, logits=logit))\n",
        "optimizer = tf.train.AdamOptimizer(learning_rate).minimize(loss)\n",
        "\n",
        "correct_prediction = tf.equal(tf.argmax(pred, 1), tf.argmax(tf_Y, 1))\n",
        "accuracy = tf.reduce_mean(tf.cast(correct_prediction, tf.float32))"
      ],
      "execution_count": 0,
      "outputs": []
    },
    {
      "cell_type": "markdown",
      "metadata": {
        "id": "tcL4mpxoTy3U",
        "colab_type": "text"
      },
      "source": [
        "# Train"
      ]
    },
    {
      "cell_type": "code",
      "metadata": {
        "scrolled": true,
        "id": "6Y01C3NYTy3V",
        "colab_type": "code",
        "outputId": "5db75f1c-9401-4d01-f67c-a6274a21b6e2",
        "colab": {
          "base_uri": "https://localhost:8080/",
          "height": 395
        }
      },
      "source": [
        "def next_batch(num, data, labels):\n",
        "    idx = np.arange(0 , len(data))\n",
        "    np.random.shuffle(idx)\n",
        "    idx = idx[:num]\n",
        "    data_shuffle = [data[ i] for i in idx]\n",
        "    labels_shuffle = [labels[ i] for i in idx]\n",
        "\n",
        "    return np.asarray(data_shuffle), np.asarray(labels_shuffle)\n",
        "\n",
        "with tf.Session() as sess:\n",
        "    sess.run(tf.global_variables_initializer())\n",
        "  \n",
        "    for i in range(10000):\n",
        "        batch = next_batch(128, x_train, y_train_one_hot.eval())\n",
        "\n",
        "        if i % 500 == 0:\n",
        "            train_accuracy = accuracy.eval(feed_dict={tf_X: batch[0], tf_Y: batch[1], keep_prob: 1.0})\n",
        "            loss_print = loss.eval(feed_dict={tf_X: batch[0], tf_Y: batch[1], keep_prob: 1.0})\n",
        "\n",
        "            print(\"iteration: %d, accuracy: %f, loss: %f\" % (i, train_accuracy, loss_print))\n",
        "        sess.run(optimizer, feed_dict={tf_X: batch[0], tf_Y: batch[1], keep_prob: 0.25})\n",
        "\n",
        "    test_accuracy = 0.0  \n",
        "    for i in range(40):\n",
        "        test_batch = next_batch(250, x_test, y_test_one_hot.eval())\n",
        "        test_accuracy = test_accuracy + accuracy.eval(feed_dict={tf_X: test_batch[0], tf_Y: test_batch[1], keep_prob: 1.0})\n",
        "    test_accuracy = test_accuracy / 40;\n",
        "    print(\"Test accuracy: %f\" % test_accuracy)"
      ],
      "execution_count": 66,
      "outputs": [
        {
          "output_type": "stream",
          "text": [
            "iteration: 0, accuracy: 0.078125, loss: 2.302204\n",
            "iteration: 500, accuracy: 0.523438, loss: 1.438244\n",
            "iteration: 1000, accuracy: 0.546875, loss: 1.165883\n",
            "iteration: 1500, accuracy: 0.671875, loss: 1.011240\n",
            "iteration: 2000, accuracy: 0.695312, loss: 0.789890\n",
            "iteration: 2500, accuracy: 0.703125, loss: 0.877458\n",
            "iteration: 3000, accuracy: 0.742188, loss: 0.847979\n",
            "iteration: 3500, accuracy: 0.843750, loss: 0.572553\n",
            "iteration: 4000, accuracy: 0.789062, loss: 0.596108\n",
            "iteration: 4500, accuracy: 0.789062, loss: 0.610058\n",
            "iteration: 5000, accuracy: 0.898438, loss: 0.301139\n",
            "iteration: 5500, accuracy: 0.851562, loss: 0.417304\n",
            "iteration: 6000, accuracy: 0.898438, loss: 0.271317\n",
            "iteration: 6500, accuracy: 0.906250, loss: 0.261356\n",
            "iteration: 7000, accuracy: 0.937500, loss: 0.245379\n",
            "iteration: 7500, accuracy: 0.921875, loss: 0.212618\n",
            "iteration: 8000, accuracy: 0.921875, loss: 0.178337\n",
            "iteration: 8500, accuracy: 0.968750, loss: 0.100600\n",
            "iteration: 9000, accuracy: 0.898438, loss: 0.225058\n",
            "iteration: 9500, accuracy: 0.992188, loss: 0.048907\n",
            "Test accuracy: 0.819200\n"
          ],
          "name": "stdout"
        }
      ]
    }
  ]
}